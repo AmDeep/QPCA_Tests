{
 "cells": [
  {
   "cell_type": "code",
   "execution_count": 2,
   "metadata": {},
   "outputs": [
    {
     "name": "stderr",
     "output_type": "stream",
     "text": [
      "2021-12-22 20:36:07.676574: W tensorflow/stream_executor/platform/default/dso_loader.cc:64] Could not load dynamic library 'libcudart.so.11.0'; dlerror: libcudart.so.11.0: cannot open shared object file: No such file or directory\n",
      "2021-12-22 20:36:07.676623: I tensorflow/stream_executor/cuda/cudart_stub.cc:29] Ignore above cudart dlerror if you do not have a GPU set up on your machine.\n"
     ]
    }
   ],
   "source": [
    "import pennylane as qml\n",
    "import numpy as np\n",
    "import tensorflow as tf"
   ]
  },
  {
   "cell_type": "code",
   "execution_count": 3,
   "metadata": {},
   "outputs": [],
   "source": [
    "dev = qml.device('default.qubit', wires=4)"
   ]
  },
  {
   "cell_type": "code",
   "execution_count": 4,
   "metadata": {},
   "outputs": [],
   "source": [
    "def real(angles, **kwargs):\n",
    "    qml.Hadamard(wires=0)\n",
    "    qml.Rot(*angles, wires=0)"
   ]
  },
  {
   "cell_type": "code",
   "execution_count": 5,
   "metadata": {},
   "outputs": [],
   "source": [
    "def generator(w, **kwargs):\n",
    "    qml.Hadamard(wires=1)\n",
    "    qml.RX(w[0], wires=1)\n",
    "    qml.RX(w[1], wires=2)\n",
    "    qml.RY(w[2], wires=1)\n",
    "    qml.RY(w[3], wires=2)\n",
    "    qml.RZ(w[4], wires=1)\n",
    "    qml.RZ(w[5], wires=2)\n",
    "    qml.CNOT(wires=[1, 2])\n",
    "    qml.RX(w[6], wires=1)\n",
    "    qml.RY(w[7], wires=1)\n",
    "    qml.RZ(w[8], wires=1)"
   ]
  },
  {
   "cell_type": "code",
   "execution_count": 6,
   "metadata": {},
   "outputs": [],
   "source": [
    "def swap_test():\n",
    "    qml.Hadamard(wires=3)\n",
    "    qml.CSWAP(wires=[3, 0, 1])\n",
    "    qml.Hadamard(wires=3)"
   ]
  },
  {
   "cell_type": "code",
   "execution_count": 7,
   "metadata": {},
   "outputs": [
    {
     "name": "stderr",
     "output_type": "stream",
     "text": [
      "2021-12-22 20:36:13.227339: W tensorflow/stream_executor/platform/default/dso_loader.cc:64] Could not load dynamic library 'libcuda.so.1'; dlerror: libcuda.so.1: cannot open shared object file: No such file or directory\n",
      "2021-12-22 20:36:13.227559: W tensorflow/stream_executor/cuda/cuda_driver.cc:269] failed call to cuInit: UNKNOWN ERROR (303)\n",
      "2021-12-22 20:36:13.227617: I tensorflow/stream_executor/cuda/cuda_diagnostics.cc:156] kernel driver does not appear to be running on this host (DESKTOP-SWX): /proc/driver/nvidia/version does not exist\n",
      "2021-12-22 20:36:13.229601: I tensorflow/core/platform/cpu_feature_guard.cc:151] This TensorFlow binary is optimized with oneAPI Deep Neural Network Library (oneDNN) to use the following CPU instructions in performance-critical operations:  AVX2 FMA\n",
      "To enable them in other operations, rebuild TensorFlow with the appropriate compiler flags.\n"
     ]
    }
   ],
   "source": [
    "@qml.qnode(dev, interface=\"tf\")\n",
    "def overlap(phi, theta, omega, gen_weights):\n",
    "    real([phi, theta, omega])\n",
    "    generator(gen_weights)\n",
    "    swap_test()\n",
    "    return qml.expval(qml.PauliZ(3))"
   ]
  },
  {
   "cell_type": "code",
   "execution_count": 8,
   "metadata": {},
   "outputs": [],
   "source": [
    "phi = np.pi / 6\n",
    "theta = np.pi / 2\n",
    "omega = np.pi / 7\n",
    "np.random.seed(0)\n",
    "eps = 1e-2\n",
    "init_gen_weights = np.array([np.pi] + [0] * 8) + \\\n",
    "                   np.random.normal(scale=eps, size=(9,))\n",
    "\n",
    "gen_weights = tf.Variable(init_gen_weights)"
   ]
  },
  {
   "cell_type": "code",
   "execution_count": 9,
   "metadata": {},
   "outputs": [],
   "source": [
    "opt = tf.keras.optimizers.SGD(0.4)"
   ]
  },
  {
   "cell_type": "code",
   "execution_count": 10,
   "metadata": {},
   "outputs": [
    {
     "name": "stdout",
     "output_type": "stream",
     "text": [
      "Step 0: cost = 0.4184112029329162\n",
      "Step 5: cost = 0.11036778096660871\n",
      "Step 10: cost = 0.01880582736704839\n",
      "Step 15: cost = 0.0035795566815230995\n",
      "Step 20: cost = 0.0007667133184362518\n",
      "Step 25: cost = 0.00017145415360786398\n",
      "Step 30: cost = 3.8852997832572456e-05\n",
      "Step 35: cost = 8.84255200905848e-06\n",
      "Step 40: cost = 2.015685248379917e-06\n",
      "Step 45: cost = 4.59783669470859e-07\n"
     ]
    }
   ],
   "source": [
    "cost = lambda: 1 - overlap(phi, theta, omega, gen_weights)\n",
    "for step in range(50):\n",
    "    opt.minimize(cost, gen_weights)\n",
    "    if step % 5 == 0:\n",
    "        cost_val = cost().numpy()\n",
    "        print(\"Step {}: cost = {}\".format(step, cost_val))"
   ]
  },
  {
   "cell_type": "code",
   "execution_count": 11,
   "metadata": {},
   "outputs": [
    {
     "name": "stdout",
     "output_type": "stream",
     "text": [
      "Real Bloch vector: [-0.21694187  0.45048443 -0.8660254 ]\n",
      "Generator Bloch vector: [-0.21651352  0.45036017 -0.86619702]\n"
     ]
    }
   ],
   "source": [
    "obs_real = [qml.PauliX(0), qml.PauliY(0), qml.PauliZ(0)]\n",
    "obs_gen = [qml.PauliX(1), qml.PauliY(1), qml.PauliZ(1)]\n",
    "\n",
    "bloch_vector_real = qml.map(real, obs_real, dev, interface=\"tf\")\n",
    "bloch_vector_generator = qml.map(generator, obs_gen, dev, interface=\"tf\")\n",
    "\n",
    "print(\"Real Bloch vector: {}\".format(bloch_vector_real([phi, theta, omega])))\n",
    "print(\"Generator Bloch vector: {}\".format(bloch_vector_generator(gen_weights)))"
   ]
  }
 ],
 "metadata": {
  "interpreter": {
   "hash": "31f2aee4e71d21fbe5cf8b01ff0e069b9275f58929596ceb00d14d90e3e16cd6"
  },
  "kernelspec": {
   "display_name": "Python 3.8.10 64-bit",
   "name": "python3"
  },
  "language_info": {
   "codemirror_mode": {
    "name": "ipython",
    "version": 3
   },
   "file_extension": ".py",
   "mimetype": "text/x-python",
   "name": "python",
   "nbconvert_exporter": "python",
   "pygments_lexer": "ipython3",
   "version": "3.8.10"
  },
  "orig_nbformat": 4
 },
 "nbformat": 4,
 "nbformat_minor": 2
}
